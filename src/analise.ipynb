{
 "cells": [
  {
   "metadata": {
    "ExecuteTime": {
     "end_time": "2025-10-09T13:07:00.382485Z",
     "start_time": "2025-10-09T13:06:59.915088Z"
    }
   },
   "cell_type": "code",
   "source": [
    "\n",
    "from pyspark.sql import functions as F"
   ],
   "id": "e7260aa891ff0642",
   "outputs": [],
   "execution_count": 1
  },
  {
   "cell_type": "code",
   "id": "initial_id",
   "metadata": {
    "collapsed": true,
    "ExecuteTime": {
     "end_time": "2025-10-09T13:07:14.543275Z",
     "start_time": "2025-10-09T13:07:00.570634Z"
    }
   },
   "source": [
    "from src.utils.spark_session import make_spark\n",
    "\n",
    "spark = make_spark()"
   ],
   "outputs": [
    {
     "name": "stderr",
     "output_type": "stream",
     "text": [
      "WARNING: Using incubator modules: jdk.incubator.vector\n",
      "Using Spark's default log4j profile: org/apache/spark/log4j2-defaults.properties\n",
      "25/10/09 10:07:04 WARN Utils: Your hostname, DSLSERVER00, resolves to a loopback address: 127.0.1.1; using 172.20.72.17 instead (on interface eno1)\n",
      "25/10/09 10:07:04 WARN Utils: Set SPARK_LOCAL_IP if you need to bind to another address\n",
      "Using Spark's default log4j profile: org/apache/spark/log4j2-defaults.properties\n",
      "Setting default log level to \"WARN\".\n",
      "To adjust logging level use sc.setLogLevel(newLevel). For SparkR, use setLogLevel(newLevel).\n",
      "25/10/09 10:07:07 WARN NativeCodeLoader: Unable to load native-hadoop library for your platform... using builtin-java classes where applicable\n"
     ]
    }
   ],
   "execution_count": 2
  },
  {
   "metadata": {
    "ExecuteTime": {
     "end_time": "2025-10-09T13:07:14.642097Z",
     "start_time": "2025-10-09T13:07:14.636857Z"
    }
   },
   "cell_type": "code",
   "source": [
    "paths = {\n",
    "    \"LISTINGS_RAW_PATH\": \"/home/hygo2025/Documents/data/listings\",\n",
    "    \"EVENTS_RAW_PATH\": \"/home/hygo2025/Documents/data/events\",\n",
    "    \"EVENTS_PROCESSED_PATH\": \"/home/hygo2025/Documents/data/processed_data/events\",\n",
    "    \"LISTINGS_PROCESSED_PATH\": \"/home/hygo2025/Documents/data/processed_data/listings\",\n",
    "    \"ENRICHED_EVENTS_PATH\": \"/home/hygo2025/Documents/data/processed_data/enriched_events\",\n",
    "    \"USER_SESSIONS_PATH\": \"/home/hygo2025/Documents/data/processed_data/user_sessions\",\n",
    "    \"LISTING_ID_MAPPING_PATH\": \"/home/hygo2025/Documents/data/processed_data/listing_id_mapping\",\n",
    "    \"USER_ID_MAPPING_PATH\": \"/home/hygo2025/Documents/data/processed_data/user_id_mapping\",\n",
    "    \"ANONYMOUS_ID_MAPPING_PATH\": \"/home/hygo2025/Documents/data/processed_data/anonymous_id_mapping\",\n",
    "    \"JAVA_HOME\": \"/opt/jdk/amazon-corretto-21\",\n",
    "    \"PYTHONUNBUFFERED\": \"1\",\n",
    "}\n"
   ],
   "id": "9241f1b3defa17fe",
   "outputs": [],
   "execution_count": 3
  },
  {
   "metadata": {
    "ExecuteTime": {
     "end_time": "2025-10-09T13:07:17.751882Z",
     "start_time": "2025-10-09T13:07:14.806373Z"
    }
   },
   "cell_type": "code",
   "source": "listings_raw = spark.read.option(\"mergeSchema\", \"true\").parquet(paths[\"LISTINGS_PROCESSED_PATH\"])",
   "id": "b3eb3925c5fd4774",
   "outputs": [
    {
     "name": "stderr",
     "output_type": "stream",
     "text": [
      "                                                                                \r"
     ]
    }
   ],
   "execution_count": 4
  },
  {
   "metadata": {
    "ExecuteTime": {
     "end_time": "2025-10-09T13:07:23.706438Z",
     "start_time": "2025-10-09T13:07:22.399302Z"
    }
   },
   "cell_type": "code",
   "source": [
    "raw_events_raw = spark.read.option(\"mergeSchema\", \"true\").parquet(paths[\"ENRICHED_EVENTS_PATH\"]+\"/dt=2024-03-01\")\n",
    "\n",
    "print(raw_events_raw.count())"
   ],
   "id": "249f70b1e8a56c8e",
   "outputs": [
    {
     "name": "stdout",
     "output_type": "stream",
     "text": [
      "654200\n"
     ]
    }
   ],
   "execution_count": 6
  },
  {
   "metadata": {
    "ExecuteTime": {
     "end_time": "2025-10-09T13:07:39.610124Z",
     "start_time": "2025-10-09T13:07:39.447352Z"
    }
   },
   "cell_type": "code",
   "source": "print(raw_events_raw.show(10))",
   "id": "a0667071dd64674b",
   "outputs": [
    {
     "name": "stdout",
     "output_type": "stream",
     "text": [
      "+--------------------+--------------------+--------------------+--------------------+--------------+----------+-------------------+-------------+--------------------+--------------------+-----+--------+---------------+--------+------------+-----------+---------+--------+------+--------------+--------------------+------------------+--------------------+---------------+\n",
      "|     unified_user_id|          listing_id|             user_id|        anonymous_id|      name_raw|event_type|collector_timestamp|business_type|            event_ts|              rating|state|    city|   neighborhood|   price|usable_areas|total_areas|bathrooms|bedrooms|suites|parking_spaces|           amenities|listing_id_numeric|            geopoint|user_numeric_id|\n",
      "+--------------------+--------------------+--------------------+--------------------+--------------+----------+-------------------+-------------+--------------------+--------------------+-----+--------+---------------+--------+------------+-----------+---------+--------+------+--------------+--------------------+------------------+--------------------+---------------+\n",
      "|3A516F8F53B943ABF...|C7F24591D8E1A949F...|                NULL|3A516F8F53B943ABF...|GalleryClicked|     OTHER|      1709289381741|         SALE|2024-03-01 07:36:...|0.008784981968391403|bahia|camaçari|jardim limoeiro|750000.0|       322.0|      322.0|        2|       3|     1|             4|['GOURMET_SPACE',...|            955790|-38.3021348,-12.7...|         856080|\n",
      "|BC4443CD23467C478...|89E36AF0A8B176820...|BC4443CD23467C478...|B2EC0A7B7F2A6D061...|GalleryClicked|     OTHER|      1709273578892|         SALE|2024-03-01 03:12:...|0.008784981968391403|bahia|salvador|        pituaçu|315000.0|       176.0|      246.0|        4|       3|     1|             5|['KITCHEN', 'DEPO...|             99775|-38.4143371,-12.9...|         272749|\n",
      "|3A516F8F53B943ABF...|C7F24591D8E1A949F...|                NULL|3A516F8F53B943ABF...|GalleryClicked|     OTHER|      1709289382399|         SALE|2024-03-01 07:36:...|0.008784981968391403|bahia|camaçari|jardim limoeiro|750000.0|       322.0|      322.0|        2|       3|     1|             4|['GOURMET_SPACE',...|            955790|-38.3021348,-12.7...|         856080|\n",
      "|BC4443CD23467C478...|E1C234C3A7EAA468F...|BC4443CD23467C478...|B2EC0A7B7F2A6D061...|GalleryClicked|     OTHER|      1709274190697|         SALE|2024-03-01 03:23:...|0.008784981968391403|bahia|salvador|         itapuã|250000.0|       140.0|       NULL|        2|       3|     0|             2|    ['PETS_ALLOWED']|            184288|-38.35874,-12.942418|         272749|\n",
      "|3A516F8F53B943ABF...|C7F24591D8E1A949F...|                NULL|3A516F8F53B943ABF...|GalleryClicked|     OTHER|      1709289383401|         SALE|2024-03-01 07:36:...|0.008784981968391403|bahia|camaçari|jardim limoeiro|750000.0|       322.0|      322.0|        2|       3|     1|             4|['GOURMET_SPACE',...|            955790|-38.3021348,-12.7...|         856080|\n",
      "|BC4443CD23467C478...|E1C234C3A7EAA468F...|BC4443CD23467C478...|B2EC0A7B7F2A6D061...|GalleryClicked|     OTHER|      1709274192192|         SALE|2024-03-01 03:23:...|0.008784981968391403|bahia|salvador|         itapuã|250000.0|       140.0|       NULL|        2|       3|     0|             2|    ['PETS_ALLOWED']|            184288|-38.35874,-12.942418|         272749|\n",
      "|3A516F8F53B943ABF...|C7F24591D8E1A949F...|                NULL|3A516F8F53B943ABF...|GalleryClicked|     OTHER|      1709289382922|         SALE|2024-03-01 07:36:...|0.008784981968391403|bahia|camaçari|jardim limoeiro|750000.0|       322.0|      322.0|        2|       3|     1|             4|['GOURMET_SPACE',...|            955790|-38.3021348,-12.7...|         856080|\n",
      "|BC4443CD23467C478...|E1C234C3A7EAA468F...|BC4443CD23467C478...|B2EC0A7B7F2A6D061...|GalleryClicked|     OTHER|      1709274192864|         SALE|2024-03-01 03:23:...|0.008784981968391403|bahia|salvador|         itapuã|250000.0|       140.0|       NULL|        2|       3|     0|             2|    ['PETS_ALLOWED']|            184288|-38.35874,-12.942418|         272749|\n",
      "|3A516F8F53B943ABF...|C7F24591D8E1A949F...|                NULL|3A516F8F53B943ABF...|GalleryClicked|     OTHER|      1709289383818|         SALE|2024-03-01 07:36:...|0.008784981968391403|bahia|camaçari|jardim limoeiro|750000.0|       322.0|      322.0|        2|       3|     1|             4|['GOURMET_SPACE',...|            955790|-38.3021348,-12.7...|         856080|\n",
      "|BC4443CD23467C478...|E1C234C3A7EAA468F...|BC4443CD23467C478...|B2EC0A7B7F2A6D061...|GalleryClicked|     OTHER|      1709274194481|         SALE|2024-03-01 03:23:...|0.008784981968391403|bahia|salvador|         itapuã|250000.0|       140.0|       NULL|        2|       3|     0|             2|    ['PETS_ALLOWED']|            184288|-38.35874,-12.942418|         272749|\n",
      "+--------------------+--------------------+--------------------+--------------------+--------------+----------+-------------------+-------------+--------------------+--------------------+-----+--------+---------------+--------+------------+-----------+---------+--------+------+--------------+--------------------+------------------+--------------------+---------------+\n",
      "only showing top 10 rows\n",
      "None\n"
     ]
    }
   ],
   "execution_count": 8
  },
  {
   "metadata": {
    "ExecuteTime": {
     "end_time": "2025-10-01T00:33:30.201199Z",
     "start_time": "2025-10-01T00:33:29.606940Z"
    }
   },
   "cell_type": "code",
   "source": [
    "from pyspark.sql import SparkSession\n",
    "from pyspark.sql import functions as F\n",
    "\n",
    "# Supondo que 'spark' e 'paths' já estão definidos na sua sessão\n",
    "\n",
    "# 1. Defina o caminho base e o intervalo de datas\n",
    "base_path = paths[\"ENRICHED_EVENTS_PATH\"]\n",
    "start_date = \"2024-02-01\"\n",
    "end_date = \"2024-03-01\"#\"2024-07-01\"\n",
    "\n",
    "# 2. Leia o diretório base do dataset\n",
    "# O Spark automaticamente reconhecerá 'partition_date' como uma coluna\n",
    "all_events_df = spark.read.option(\"mergeSchema\", \"true\").parquet(base_path)\n",
    "\n",
    "# 3. Filtre pelo intervalo de datas desejado\n",
    "# Esta operação é muito eficiente devido ao \"partition pruning\"\n",
    "filtered_by_date_df = all_events_df.filter(\n",
    "    (F.col(\"dt\") >= start_date) &\n",
    "    (F.col(\"dt\") <= end_date)\n",
    ")\n",
    "\n",
    "# 4. Agrupe pela coluna de data e conte as linhas de cada grupo\n",
    "counts_per_day = filtered_by_date_df.groupBy(\"dt\").count()\n",
    "\n",
    "# 5. Ordene o resultado por data para uma melhor visualização\n",
    "sorted_counts = counts_per_day.orderBy(F.col(\"dt\").asc())\n",
    "\n",
    "# 6. Exiba o resultado\n",
    "print(f\"Contagem de linhas por dia entre {start_date} e {end_date}:\")\n",
    "# Usamos n=150 para garantir que todos os dias do intervalo sejam exibidos (o padrão é 20)\n",
    "\n",
    "\n",
    "# (Opcional) Se você quiser salvar o resultado em um CSV, por exemplo:\n",
    "# sorted_counts.coalesce(1).write.mode(\"overwrite\").csv(\"contagem_por_dia.csv\", header=True)"
   ],
   "id": "c53b46e4ddd3bda4",
   "outputs": [
    {
     "name": "stdout",
     "output_type": "stream",
     "text": [
      "Contagem de linhas por dia entre 2024-02-01 e 2024-03-01:\n"
     ]
    }
   ],
   "execution_count": 10
  },
  {
   "metadata": {
    "ExecuteTime": {
     "end_time": "2025-10-01T00:33:37.867134Z",
     "start_time": "2025-10-01T00:33:37.573386Z"
    }
   },
   "cell_type": "code",
   "source": "print(sorted_counts.show(n=150, truncate=False))\n",
   "id": "2f077caca1bae69c",
   "outputs": [
    {
     "name": "stdout",
     "output_type": "stream",
     "text": [
      "+----------+------+\n",
      "|dt        |count |\n",
      "+----------+------+\n",
      "|2024-02-01|794453|\n",
      "|2024-02-02|755927|\n",
      "|2024-02-03|713642|\n",
      "|2024-02-04|806292|\n",
      "|2024-02-05|801587|\n",
      "|2024-02-06|796404|\n",
      "|2024-02-07|657426|\n",
      "|2024-02-08|661294|\n",
      "|2024-02-09|563772|\n",
      "|2024-02-10|497026|\n",
      "|2024-02-11|581104|\n",
      "|2024-02-12|628214|\n",
      "|2024-02-13|734870|\n",
      "|2024-02-14|899741|\n",
      "|2024-02-15|907090|\n",
      "|2024-02-16|874879|\n",
      "|2024-02-17|795654|\n",
      "|2024-02-18|853939|\n",
      "|2024-02-19|880976|\n",
      "|2024-02-20|847886|\n",
      "|2024-02-21|805419|\n",
      "|2024-02-22|771924|\n",
      "|2024-02-23|739506|\n",
      "|2024-02-24|696688|\n",
      "|2024-02-25|797076|\n",
      "|2024-02-26|910747|\n",
      "|2024-02-27|901978|\n",
      "|2024-02-28|845684|\n",
      "|2024-02-29|719668|\n",
      "|2024-03-01|693334|\n",
      "+----------+------+\n",
      "\n",
      "None\n"
     ]
    }
   ],
   "execution_count": 11
  },
  {
   "metadata": {
    "ExecuteTime": {
     "end_time": "2025-09-30T12:32:03.361823Z",
     "start_time": "2025-09-30T12:32:03.132836Z"
    }
   },
   "cell_type": "code",
   "source": "raw_events_raw.filter(F.col(\"anonymized_user_id\").isNull()).count()",
   "id": "af0c30fad2de365a",
   "outputs": [
    {
     "data": {
      "text/plain": [
       "0"
      ]
     },
     "execution_count": 7,
     "metadata": {},
     "output_type": "execute_result"
    }
   ],
   "execution_count": 7
  },
  {
   "metadata": {
    "ExecuteTime": {
     "end_time": "2025-09-29T21:53:13.153904Z",
     "start_time": "2025-09-29T21:53:06.437530Z"
    }
   },
   "cell_type": "code",
   "source": "listings_raw.count()",
   "id": "9625d88bfeaea142",
   "outputs": [
    {
     "name": "stderr",
     "output_type": "stream",
     "text": [
      "                                                                                \r"
     ]
    },
    {
     "data": {
      "text/plain": [
       "306146436"
      ]
     },
     "execution_count": 11,
     "metadata": {},
     "output_type": "execute_result"
    }
   ],
   "execution_count": 11
  },
  {
   "metadata": {
    "ExecuteTime": {
     "end_time": "2025-09-29T22:04:06.434752Z",
     "start_time": "2025-09-29T22:04:00.713884Z"
    }
   },
   "cell_type": "code",
   "source": [
    "a = listings_raw.filter(F.col(\"anonymized_listing_id\") == \"259B932FD4548C22DD4CFCEA46D760253A97E967A637F34A81402AAE58C8B387\")\n",
    "print(a.show(10, truncate=False))"
   ],
   "id": "c19a075e676a50bf",
   "outputs": [
    {
     "name": "stderr",
     "output_type": "stream",
     "text": [
      "[Stage 19:===========================================>          (80 + 20) / 100]\r"
     ]
    },
    {
     "name": "stdout",
     "output_type": "stream",
     "text": [
      "+----------------------------------------------------------------+----------+----------+------+---------+--------------+-------+--------------+------------+-----------+---------+--------+------+--------------+------+--------------+---------------------------+-------+--------------+------------------+----------+\n",
      "|anonymized_listing_id                                           |created_at|updated_at|status|price    |state         |city   |neighborhood  |usable_areas|total_areas|bathrooms|bedrooms|suites|parking_spaces|floors|ceiling_height|amenities                  |month  |partition_date|listing_id_numeric|dt        |\n",
      "+----------------------------------------------------------------+----------+----------+------+---------+--------------+-------+--------------+------------+-----------+---------+--------+------+--------------+------+--------------+---------------------------+-------+--------------+------------------+----------+\n",
      "|259B932FD4548C22DD4CFCEA46D760253A97E967A637F34A81402AAE58C8B387|2023-10-19|2024-06-26|ACTIVE|2200000.0|Espírito Santo|Vitória|Praia do Canto|167.0       |167.0      |5        |4       |3     |3             |13    |NULL          |['KITCHEN', 'SERVICE_AREA']|2023-10|2024-06-26    |2490173           |2024-06-26|\n",
      "|259B932FD4548C22DD4CFCEA46D760253A97E967A637F34A81402AAE58C8B387|2023-10-19|2024-06-12|ACTIVE|2200000.0|Espírito Santo|Vitória|Praia do Canto|167.0       |167.0      |5        |4       |3     |3             |13    |NULL          |['KITCHEN', 'SERVICE_AREA']|2023-10|2024-06-19    |2490173           |2024-06-19|\n",
      "|259B932FD4548C22DD4CFCEA46D760253A97E967A637F34A81402AAE58C8B387|2023-10-19|2024-06-29|ACTIVE|2200000.0|Espírito Santo|Vitória|Praia do Canto|167.0       |167.0      |5        |4       |3     |3             |13    |NULL          |['KITCHEN', 'SERVICE_AREA']|2023-10|2024-06-30    |2490173           |2024-06-30|\n",
      "|259B932FD4548C22DD4CFCEA46D760253A97E967A637F34A81402AAE58C8B387|2023-10-19|2024-06-12|ACTIVE|2200000.0|Espírito Santo|Vitória|Praia do Canto|167.0       |167.0      |5        |4       |3     |3             |13    |NULL          |['KITCHEN', 'SERVICE_AREA']|2023-10|2024-06-22    |2490173           |2024-06-22|\n",
      "|259B932FD4548C22DD4CFCEA46D760253A97E967A637F34A81402AAE58C8B387|2023-10-19|2024-06-12|ACTIVE|2200000.0|Espírito Santo|Vitória|Praia do Canto|167.0       |167.0      |5        |4       |3     |3             |13    |NULL          |['KITCHEN', 'SERVICE_AREA']|2023-10|2024-06-24    |2490173           |2024-06-24|\n",
      "|259B932FD4548C22DD4CFCEA46D760253A97E967A637F34A81402AAE58C8B387|2023-10-19|2024-06-25|ACTIVE|2200000.0|Espírito Santo|Vitória|Praia do Canto|167.0       |167.0      |5        |4       |3     |3             |13    |NULL          |['KITCHEN', 'SERVICE_AREA']|2023-10|2024-06-25    |2490173           |2024-06-25|\n",
      "|259B932FD4548C22DD4CFCEA46D760253A97E967A637F34A81402AAE58C8B387|2023-10-19|2024-06-29|ACTIVE|2200000.0|Espírito Santo|Vitória|Praia do Canto|167.0       |167.0      |5        |4       |3     |3             |13    |NULL          |['KITCHEN', 'SERVICE_AREA']|2023-10|2024-06-29    |2490173           |2024-06-29|\n",
      "|259B932FD4548C22DD4CFCEA46D760253A97E967A637F34A81402AAE58C8B387|2023-10-19|2024-06-28|ACTIVE|2200000.0|Espírito Santo|Vitória|Praia do Canto|167.0       |167.0      |5        |4       |3     |3             |13    |NULL          |['KITCHEN', 'SERVICE_AREA']|2023-10|2024-06-28    |2490173           |2024-06-28|\n",
      "|259B932FD4548C22DD4CFCEA46D760253A97E967A637F34A81402AAE58C8B387|2023-10-19|2024-06-12|ACTIVE|2200000.0|Espírito Santo|Vitória|Praia do Canto|167.0       |167.0      |5        |4       |3     |3             |13    |NULL          |['KITCHEN', 'SERVICE_AREA']|2023-10|2024-06-21    |2490173           |2024-06-21|\n",
      "|259B932FD4548C22DD4CFCEA46D760253A97E967A637F34A81402AAE58C8B387|2023-10-19|2024-07-01|ACTIVE|2200000.0|Espírito Santo|Vitória|Praia do Canto|167.0       |167.0      |5        |4       |3     |3             |13    |NULL          |['KITCHEN', 'SERVICE_AREA']|2023-10|2024-07-01    |2490173           |2024-07-01|\n",
      "+----------------------------------------------------------------+----------+----------+------+---------+--------------+-------+--------------+------------+-----------+---------+--------+------+--------------+------+--------------+---------------------------+-------+--------------+------------------+----------+\n",
      "only showing top 10 rows\n",
      "None\n"
     ]
    },
    {
     "name": "stderr",
     "output_type": "stream",
     "text": [
      "                                                                                \r"
     ]
    }
   ],
   "execution_count": 20
  },
  {
   "metadata": {
    "ExecuteTime": {
     "end_time": "2025-09-29T21:55:45.386894Z",
     "start_time": "2025-09-29T21:55:45.383107Z"
    }
   },
   "cell_type": "code",
   "source": "listings_raw.columns",
   "id": "7ee44e89a517a4bd",
   "outputs": [
    {
     "data": {
      "text/plain": [
       "['anonymized_listing_id',\n",
       " 'created_at',\n",
       " 'updated_at',\n",
       " 'status',\n",
       " 'price',\n",
       " 'state',\n",
       " 'city',\n",
       " 'neighborhood',\n",
       " 'usable_areas',\n",
       " 'total_areas',\n",
       " 'bathrooms',\n",
       " 'bedrooms',\n",
       " 'suites',\n",
       " 'parking_spaces',\n",
       " 'floors',\n",
       " 'ceiling_height',\n",
       " 'amenities',\n",
       " 'month',\n",
       " 'partition_date',\n",
       " 'listing_id_numeric',\n",
       " 'dt']"
      ]
     },
     "execution_count": 14,
     "metadata": {},
     "output_type": "execute_result"
    }
   ],
   "execution_count": 14
  }
 ],
 "metadata": {
  "kernelspec": {
   "display_name": "Python 3",
   "language": "python",
   "name": "python3"
  },
  "language_info": {
   "codemirror_mode": {
    "name": "ipython",
    "version": 2
   },
   "file_extension": ".py",
   "mimetype": "text/x-python",
   "name": "python",
   "nbconvert_exporter": "python",
   "pygments_lexer": "ipython2",
   "version": "2.7.6"
  }
 },
 "nbformat": 4,
 "nbformat_minor": 5
}
