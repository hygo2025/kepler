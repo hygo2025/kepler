{
 "cells": [
  {
   "metadata": {
    "ExecuteTime": {
     "end_time": "2025-09-30T12:30:36.864063Z",
     "start_time": "2025-09-30T12:30:36.680854Z"
    }
   },
   "cell_type": "code",
   "source": [
    "\n",
    "from pyspark.sql import functions as F"
   ],
   "id": "e7260aa891ff0642",
   "outputs": [],
   "execution_count": 1
  },
  {
   "cell_type": "code",
   "id": "initial_id",
   "metadata": {
    "collapsed": true,
    "ExecuteTime": {
     "end_time": "2025-09-30T12:30:40.630299Z",
     "start_time": "2025-09-30T12:30:36.880569Z"
    }
   },
   "source": [
    "from src.utils.spark_session import make_spark\n",
    "\n",
    "spark = make_spark()"
   ],
   "outputs": [
    {
     "name": "stderr",
     "output_type": "stream",
     "text": [
      "WARNING: Using incubator modules: jdk.incubator.vector\n",
      "Using Spark's default log4j profile: org/apache/spark/log4j2-defaults.properties\n",
      "25/09/30 09:30:37 WARN Utils: Your hostname, DSLSERVER00, resolves to a loopback address: 127.0.1.1; using 172.20.72.17 instead (on interface eno1)\n",
      "25/09/30 09:30:37 WARN Utils: Set SPARK_LOCAL_IP if you need to bind to another address\n",
      "Using Spark's default log4j profile: org/apache/spark/log4j2-defaults.properties\n",
      "Setting default log level to \"WARN\".\n",
      "To adjust logging level use sc.setLogLevel(newLevel). For SparkR, use setLogLevel(newLevel).\n",
      "25/09/30 09:30:38 WARN NativeCodeLoader: Unable to load native-hadoop library for your platform... using builtin-java classes where applicable\n"
     ]
    }
   ],
   "execution_count": 2
  },
  {
   "metadata": {
    "ExecuteTime": {
     "end_time": "2025-09-30T12:30:40.754533Z",
     "start_time": "2025-09-30T12:30:40.751498Z"
    }
   },
   "cell_type": "code",
   "source": [
    "paths = {\n",
    "    \"LISTINGS_RAW_PATH\": \"/home/hygo2025/Documents/data/listings\",\n",
    "    \"EVENTS_RAW_PATH\": \"/home/hygo2025/Documents/data/events\",\n",
    "    \"EVENTS_PROCESSED_PATH\": \"/home/hygo2025/Documents/data/processed_data/events\",\n",
    "    \"LISTINGS_PROCESSED_PATH\": \"/home/hygo2025/Documents/data/processed_data/listings\",\n",
    "    \"ENRICHED_EVENTS_PATH\": \"/home/hygo2025/Documents/data/processed_data/enriched_events\",\n",
    "    \"USER_SESSIONS_PATH\": \"/home/hygo2025/Documents/data/processed_data/user_sessions\",\n",
    "    \"LISTING_ID_MAPPING_PATH\": \"/home/hygo2025/Documents/data/processed_data/listing_id_mapping\",\n",
    "    \"USER_ID_MAPPING_PATH\": \"/home/hygo2025/Documents/data/processed_data/user_id_mapping\",\n",
    "    \"ANONYMOUS_ID_MAPPING_PATH\": \"/home/hygo2025/Documents/data/processed_data/anonymous_id_mapping\",\n",
    "    \"JAVA_HOME\": \"/opt/jdk/amazon-corretto-21\",\n",
    "    \"PYTHONUNBUFFERED\": \"1\",\n",
    "}\n"
   ],
   "id": "9241f1b3defa17fe",
   "outputs": [],
   "execution_count": 3
  },
  {
   "metadata": {
    "ExecuteTime": {
     "end_time": "2025-09-29T21:52:50.244393Z",
     "start_time": "2025-09-29T21:52:46.685746Z"
    }
   },
   "cell_type": "code",
   "source": "listings_raw = spark.read.option(\"mergeSchema\", \"true\").parquet(paths[\"LISTINGS_PROCESSED_PATH\"])",
   "id": "b3eb3925c5fd4774",
   "outputs": [
    {
     "name": "stderr",
     "output_type": "stream",
     "text": [
      "                                                                                \r"
     ]
    }
   ],
   "execution_count": 9
  },
  {
   "metadata": {
    "ExecuteTime": {
     "end_time": "2025-09-30T12:30:43.862307Z",
     "start_time": "2025-09-30T12:30:42.262394Z"
    }
   },
   "cell_type": "code",
   "source": "raw_events_raw = spark.read.option(\"mergeSchema\", \"true\").parquet(paths[\"EVENTS_PROCESSED_PATH\"])",
   "id": "249f70b1e8a56c8e",
   "outputs": [],
   "execution_count": 4
  },
  {
   "metadata": {
    "ExecuteTime": {
     "end_time": "2025-09-30T12:30:59.130411Z",
     "start_time": "2025-09-30T12:30:59.124293Z"
    }
   },
   "cell_type": "code",
   "source": "raw_events_raw.columns\n",
   "id": "2f077caca1bae69c",
   "execution_count": 5,
   "outputs": [
    {
     "data": {
      "text/plain": [
       "['anonymized_user_id',\n",
       " 'anonymized_listing_id',\n",
       " 'anonymized_anonymous_id',\n",
       " 'anonymized_session_id',\n",
       " 'dt',\n",
       " 'browser_family',\n",
       " 'os_family',\n",
       " 'is_bot',\n",
       " 'name_raw',\n",
       " 'event_type',\n",
       " 'collector_timestamp',\n",
       " 'event_ts',\n",
       " 'listing_id_numeric',\n",
       " 'user_id_numeric']"
      ]
     },
     "execution_count": 5,
     "metadata": {},
     "output_type": "execute_result"
    }
   ]
  },
  {
   "metadata": {
    "ExecuteTime": {
     "end_time": "2025-09-30T12:32:03.361823Z",
     "start_time": "2025-09-30T12:32:03.132836Z"
    }
   },
   "cell_type": "code",
   "source": "raw_events_raw.filter(F.col(\"anonymized_user_id\").isNull()).count()",
   "id": "af0c30fad2de365a",
   "outputs": [
    {
     "data": {
      "text/plain": [
       "0"
      ]
     },
     "execution_count": 7,
     "metadata": {},
     "output_type": "execute_result"
    }
   ],
   "execution_count": 7
  },
  {
   "metadata": {
    "ExecuteTime": {
     "end_time": "2025-09-29T21:53:13.153904Z",
     "start_time": "2025-09-29T21:53:06.437530Z"
    }
   },
   "cell_type": "code",
   "source": "listings_raw.count()",
   "id": "9625d88bfeaea142",
   "outputs": [
    {
     "name": "stderr",
     "output_type": "stream",
     "text": [
      "                                                                                \r"
     ]
    },
    {
     "data": {
      "text/plain": [
       "306146436"
      ]
     },
     "execution_count": 11,
     "metadata": {},
     "output_type": "execute_result"
    }
   ],
   "execution_count": 11
  },
  {
   "metadata": {
    "ExecuteTime": {
     "end_time": "2025-09-29T22:04:06.434752Z",
     "start_time": "2025-09-29T22:04:00.713884Z"
    }
   },
   "cell_type": "code",
   "source": [
    "a = listings_raw.filter(F.col(\"anonymized_listing_id\") == \"259B932FD4548C22DD4CFCEA46D760253A97E967A637F34A81402AAE58C8B387\")\n",
    "print(a.show(10, truncate=False))"
   ],
   "id": "c19a075e676a50bf",
   "outputs": [
    {
     "name": "stderr",
     "output_type": "stream",
     "text": [
      "[Stage 19:===========================================>          (80 + 20) / 100]\r"
     ]
    },
    {
     "name": "stdout",
     "output_type": "stream",
     "text": [
      "+----------------------------------------------------------------+----------+----------+------+---------+--------------+-------+--------------+------------+-----------+---------+--------+------+--------------+------+--------------+---------------------------+-------+--------------+------------------+----------+\n",
      "|anonymized_listing_id                                           |created_at|updated_at|status|price    |state         |city   |neighborhood  |usable_areas|total_areas|bathrooms|bedrooms|suites|parking_spaces|floors|ceiling_height|amenities                  |month  |partition_date|listing_id_numeric|dt        |\n",
      "+----------------------------------------------------------------+----------+----------+------+---------+--------------+-------+--------------+------------+-----------+---------+--------+------+--------------+------+--------------+---------------------------+-------+--------------+------------------+----------+\n",
      "|259B932FD4548C22DD4CFCEA46D760253A97E967A637F34A81402AAE58C8B387|2023-10-19|2024-06-26|ACTIVE|2200000.0|Espírito Santo|Vitória|Praia do Canto|167.0       |167.0      |5        |4       |3     |3             |13    |NULL          |['KITCHEN', 'SERVICE_AREA']|2023-10|2024-06-26    |2490173           |2024-06-26|\n",
      "|259B932FD4548C22DD4CFCEA46D760253A97E967A637F34A81402AAE58C8B387|2023-10-19|2024-06-12|ACTIVE|2200000.0|Espírito Santo|Vitória|Praia do Canto|167.0       |167.0      |5        |4       |3     |3             |13    |NULL          |['KITCHEN', 'SERVICE_AREA']|2023-10|2024-06-19    |2490173           |2024-06-19|\n",
      "|259B932FD4548C22DD4CFCEA46D760253A97E967A637F34A81402AAE58C8B387|2023-10-19|2024-06-29|ACTIVE|2200000.0|Espírito Santo|Vitória|Praia do Canto|167.0       |167.0      |5        |4       |3     |3             |13    |NULL          |['KITCHEN', 'SERVICE_AREA']|2023-10|2024-06-30    |2490173           |2024-06-30|\n",
      "|259B932FD4548C22DD4CFCEA46D760253A97E967A637F34A81402AAE58C8B387|2023-10-19|2024-06-12|ACTIVE|2200000.0|Espírito Santo|Vitória|Praia do Canto|167.0       |167.0      |5        |4       |3     |3             |13    |NULL          |['KITCHEN', 'SERVICE_AREA']|2023-10|2024-06-22    |2490173           |2024-06-22|\n",
      "|259B932FD4548C22DD4CFCEA46D760253A97E967A637F34A81402AAE58C8B387|2023-10-19|2024-06-12|ACTIVE|2200000.0|Espírito Santo|Vitória|Praia do Canto|167.0       |167.0      |5        |4       |3     |3             |13    |NULL          |['KITCHEN', 'SERVICE_AREA']|2023-10|2024-06-24    |2490173           |2024-06-24|\n",
      "|259B932FD4548C22DD4CFCEA46D760253A97E967A637F34A81402AAE58C8B387|2023-10-19|2024-06-25|ACTIVE|2200000.0|Espírito Santo|Vitória|Praia do Canto|167.0       |167.0      |5        |4       |3     |3             |13    |NULL          |['KITCHEN', 'SERVICE_AREA']|2023-10|2024-06-25    |2490173           |2024-06-25|\n",
      "|259B932FD4548C22DD4CFCEA46D760253A97E967A637F34A81402AAE58C8B387|2023-10-19|2024-06-29|ACTIVE|2200000.0|Espírito Santo|Vitória|Praia do Canto|167.0       |167.0      |5        |4       |3     |3             |13    |NULL          |['KITCHEN', 'SERVICE_AREA']|2023-10|2024-06-29    |2490173           |2024-06-29|\n",
      "|259B932FD4548C22DD4CFCEA46D760253A97E967A637F34A81402AAE58C8B387|2023-10-19|2024-06-28|ACTIVE|2200000.0|Espírito Santo|Vitória|Praia do Canto|167.0       |167.0      |5        |4       |3     |3             |13    |NULL          |['KITCHEN', 'SERVICE_AREA']|2023-10|2024-06-28    |2490173           |2024-06-28|\n",
      "|259B932FD4548C22DD4CFCEA46D760253A97E967A637F34A81402AAE58C8B387|2023-10-19|2024-06-12|ACTIVE|2200000.0|Espírito Santo|Vitória|Praia do Canto|167.0       |167.0      |5        |4       |3     |3             |13    |NULL          |['KITCHEN', 'SERVICE_AREA']|2023-10|2024-06-21    |2490173           |2024-06-21|\n",
      "|259B932FD4548C22DD4CFCEA46D760253A97E967A637F34A81402AAE58C8B387|2023-10-19|2024-07-01|ACTIVE|2200000.0|Espírito Santo|Vitória|Praia do Canto|167.0       |167.0      |5        |4       |3     |3             |13    |NULL          |['KITCHEN', 'SERVICE_AREA']|2023-10|2024-07-01    |2490173           |2024-07-01|\n",
      "+----------------------------------------------------------------+----------+----------+------+---------+--------------+-------+--------------+------------+-----------+---------+--------+------+--------------+------+--------------+---------------------------+-------+--------------+------------------+----------+\n",
      "only showing top 10 rows\n",
      "None\n"
     ]
    },
    {
     "name": "stderr",
     "output_type": "stream",
     "text": [
      "                                                                                \r"
     ]
    }
   ],
   "execution_count": 20
  },
  {
   "metadata": {
    "ExecuteTime": {
     "end_time": "2025-09-29T21:55:45.386894Z",
     "start_time": "2025-09-29T21:55:45.383107Z"
    }
   },
   "cell_type": "code",
   "source": "listings_raw.columns",
   "id": "7ee44e89a517a4bd",
   "outputs": [
    {
     "data": {
      "text/plain": [
       "['anonymized_listing_id',\n",
       " 'created_at',\n",
       " 'updated_at',\n",
       " 'status',\n",
       " 'price',\n",
       " 'state',\n",
       " 'city',\n",
       " 'neighborhood',\n",
       " 'usable_areas',\n",
       " 'total_areas',\n",
       " 'bathrooms',\n",
       " 'bedrooms',\n",
       " 'suites',\n",
       " 'parking_spaces',\n",
       " 'floors',\n",
       " 'ceiling_height',\n",
       " 'amenities',\n",
       " 'month',\n",
       " 'partition_date',\n",
       " 'listing_id_numeric',\n",
       " 'dt']"
      ]
     },
     "execution_count": 14,
     "metadata": {},
     "output_type": "execute_result"
    }
   ],
   "execution_count": 14
  }
 ],
 "metadata": {
  "kernelspec": {
   "display_name": "Python 3",
   "language": "python",
   "name": "python3"
  },
  "language_info": {
   "codemirror_mode": {
    "name": "ipython",
    "version": 2
   },
   "file_extension": ".py",
   "mimetype": "text/x-python",
   "name": "python",
   "nbconvert_exporter": "python",
   "pygments_lexer": "ipython2",
   "version": "2.7.6"
  }
 },
 "nbformat": 4,
 "nbformat_minor": 5
}
